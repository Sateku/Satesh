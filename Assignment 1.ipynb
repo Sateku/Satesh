{
 "cells": [
  {
   "cell_type": "raw",
   "id": "01bea19b",
   "metadata": {},
   "source": [
    "1. In the below elements which of them are values or an expression? eg:- values can be\n",
    "integer or string and expressions will be mathematical operators.\n",
    "*\n",
    "'hello'\n",
    "-87.8\n",
    "-\n",
    "/\n",
    "+\n",
    "6"
   ]
  },
  {
   "cell_type": "raw",
   "id": "7417a339",
   "metadata": {},
   "source": [
    "Ans.\n",
    "*       - expression\n",
    "'hello\" - values\n",
    "-87.8   - values\n",
    "-       - expression\n",
    "/       - expression\n",
    "+       -expression\n",
    "6       - values"
   ]
  },
  {
   "cell_type": "raw",
   "id": "d26ac8b6",
   "metadata": {},
   "source": [
    "2. What is the difference between string and variable?"
   ]
  },
  {
   "cell_type": "raw",
   "id": "40dd2229",
   "metadata": {},
   "source": [
    "Ans.\n",
    "A Variable is something that stores information or data.It can store string,int,float,class etc.\n",
    "A String is a type of information we would store in a variable.A String is usually words, enclosed with \"\".\n",
    "Eg.\n",
    "x=\"welcome to python\"\n",
    "x is a Variable\n",
    "\"welcome to python\" is a String"
   ]
  },
  {
   "cell_type": "raw",
   "id": "50c7ecff",
   "metadata": {},
   "source": [
    "3. Describe three different data types."
   ]
  },
  {
   "cell_type": "raw",
   "id": "139f3eee",
   "metadata": {},
   "source": [
    "Ans.\n",
    "Data Type                 Classes                     Description\n",
    "---------                 --------                    ----------------------------\n",
    "Numeric                   int,float,complex           hold numeric values\n",
    "String                    str                         hold sequence of character enclose with\"\"\n",
    "Sequence                  list,tuple,range            holds collection of items "
   ]
  },
  {
   "cell_type": "raw",
   "id": "30f4bdb6",
   "metadata": {},
   "source": [
    "4. What is an expression made up of? What do all expressions do?"
   ]
  },
  {
   "cell_type": "raw",
   "id": "3ef713a8",
   "metadata": {},
   "source": [
    "Ans.\n",
    "A combination of operands and operators is called an experssion.\n",
    "The expression in Python produces some value or result after being interpreted by the python interpreter.\n",
    "An expression in Python is a combination of operands and operators.\n",
    "Example:\n",
    "x=5\n",
    "y=3\n",
    "z=x+y"
   ]
  },
  {
   "cell_type": "raw",
   "id": "8a154874",
   "metadata": {},
   "source": [
    "5. This assignment statements, like spam = 10. What is the difference between an\n",
    "expression and a statement?"
   ]
  },
  {
   "cell_type": "raw",
   "id": "8d2b9e62",
   "metadata": {},
   "source": [
    "Ans.\n",
    "An expression is a sequence or combination of values,variables,operators and functions calls that always produces or returns a result value.\n",
    "Example:\n",
    "x=5\n",
    "y=3\n",
    "z=x+y\n",
    "In the above example x,y and z are variables, 5 and 3 are values, = and + are operatores.\n",
    "\n",
    "An Instruction that a Python interpreter can execute (carryout) is called a statement."
   ]
  },
  {
   "cell_type": "raw",
   "id": "f1aacd66",
   "metadata": {},
   "source": [
    "6. After running the following code, what does the variable bacon contain?\n",
    "bacon = 22\n",
    "bacon + 1"
   ]
  },
  {
   "cell_type": "raw",
   "id": "b32400c4",
   "metadata": {},
   "source": [
    "Ans.\n",
    "bacon=22\n",
    "bacon+1=23"
   ]
  },
  {
   "cell_type": "code",
   "execution_count": 1,
   "id": "64ffbc3f",
   "metadata": {},
   "outputs": [
    {
     "data": {
      "text/plain": [
       "23"
      ]
     },
     "execution_count": 1,
     "metadata": {},
     "output_type": "execute_result"
    }
   ],
   "source": [
    "bacon=22\n",
    "bacon+1"
   ]
  },
  {
   "cell_type": "raw",
   "id": "4fa3c53d",
   "metadata": {},
   "source": [
    "7. What should the values of the following two terms be?\n",
    "'spam'+'spamspam'\n",
    "'spam'* 3"
   ]
  },
  {
   "cell_type": "raw",
   "id": "fdfbf6da",
   "metadata": {},
   "source": [
    "'spam'+'spamspam'='spamspamspam'\n",
    "'spam'*3='spamspamspam'"
   ]
  },
  {
   "cell_type": "code",
   "execution_count": 2,
   "id": "63c785f4",
   "metadata": {},
   "outputs": [
    {
     "data": {
      "text/plain": [
       "'spamspamspam'"
      ]
     },
     "execution_count": 2,
     "metadata": {},
     "output_type": "execute_result"
    }
   ],
   "source": [
    "'spam'+'spamspam'"
   ]
  },
  {
   "cell_type": "code",
   "execution_count": 3,
   "id": "61179d6f",
   "metadata": {},
   "outputs": [
    {
     "data": {
      "text/plain": [
       "'spamspamspam'"
      ]
     },
     "execution_count": 3,
     "metadata": {},
     "output_type": "execute_result"
    }
   ],
   "source": [
    "'spam'* 3"
   ]
  },
  {
   "cell_type": "raw",
   "id": "a94d0f46",
   "metadata": {},
   "source": [
    "8. Why is eggs a valid variable name while 100 is invalid?"
   ]
  },
  {
   "cell_type": "raw",
   "id": "a0feb8fc",
   "metadata": {},
   "source": [
    "Ans.\n",
    "A Variable name must start with a letter or the under score character.\n",
    "A variable name cannot start with a number.\n",
    "A variable name can only contain alpha-numeric characters and underscore (A-Z,a-z,0-9,and_)\n",
    "egg is a valid variable name because it starts with a letter but 100 is an invalid variable name because it starts with a number."
   ]
  },
  {
   "cell_type": "raw",
   "id": "e6b5dc5e",
   "metadata": {},
   "source": [
    "9. What three functions can be used to get the integer, floating-point number, or string\n",
    "version of a value?"
   ]
  },
  {
   "cell_type": "raw",
   "id": "64007ec6",
   "metadata": {},
   "source": [
    "Ans.\n",
    "The function can be used to get integer version of a value is int()\n",
    "The function can be used to get floating-point number version of a value is float()\n",
    "The function can be used to get string version of a value is str()"
   ]
  },
  {
   "cell_type": "raw",
   "id": "38f4ff58",
   "metadata": {},
   "source": [
    "10. Why does this expression cause an error? How can you fix it?\n",
    "'I have eaten'+ 99 +'burritos'"
   ]
  },
  {
   "cell_type": "raw",
   "id": "f9e44cae",
   "metadata": {},
   "source": [
    "Ans.\n",
    "The expression causes an error because 99 is an integer and other operands are strings.\n",
    "We can fix it by converting integer to string by str(99).\n",
    "The correct way is \n",
    "'I have eaten'+str(99)+'burritos'"
   ]
  },
  {
   "cell_type": "code",
   "execution_count": 4,
   "id": "df8556c3",
   "metadata": {},
   "outputs": [
    {
     "ename": "TypeError",
     "evalue": "can only concatenate str (not \"int\") to str",
     "output_type": "error",
     "traceback": [
      "\u001b[1;31m---------------------------------------------------------------------------\u001b[0m",
      "\u001b[1;31mTypeError\u001b[0m                                 Traceback (most recent call last)",
      "\u001b[1;32m~\\AppData\\Local\\Temp/ipykernel_1644/2381720851.py\u001b[0m in \u001b[0;36m<module>\u001b[1;34m\u001b[0m\n\u001b[1;32m----> 1\u001b[1;33m \u001b[1;34m'I have eaten'\u001b[0m\u001b[1;33m+\u001b[0m \u001b[1;36m99\u001b[0m \u001b[1;33m+\u001b[0m\u001b[1;34m'burritos'\u001b[0m\u001b[1;33m\u001b[0m\u001b[1;33m\u001b[0m\u001b[0m\n\u001b[0m",
      "\u001b[1;31mTypeError\u001b[0m: can only concatenate str (not \"int\") to str"
     ]
    }
   ],
   "source": [
    "'I have eaten'+ 99 +'burritos'"
   ]
  },
  {
   "cell_type": "raw",
   "id": "7c0dacb7",
   "metadata": {},
   "source": [
    "As shown above concatenate operation only possible same type variables. Here 'I have eaten' and 'burritors' are string variables and 99 is a integer , so this expression cause an error. If we convert every variable into string variable than this expression cause no error i.e. convert 99 to string variable as '99' or str(99). as shown below"
   ]
  },
  {
   "cell_type": "code",
   "execution_count": 5,
   "id": "d2ecb73a",
   "metadata": {},
   "outputs": [
    {
     "data": {
      "text/plain": [
       "'I have eaten99burritos'"
      ]
     },
     "execution_count": 5,
     "metadata": {},
     "output_type": "execute_result"
    }
   ],
   "source": [
    "'I have eaten'+ '99' +'burritos'"
   ]
  },
  {
   "cell_type": "code",
   "execution_count": 6,
   "id": "f453eaec",
   "metadata": {},
   "outputs": [
    {
     "data": {
      "text/plain": [
       "'I have eaten99burritos'"
      ]
     },
     "execution_count": 6,
     "metadata": {},
     "output_type": "execute_result"
    }
   ],
   "source": [
    "'I have eaten'+ str(99) +'burritos'"
   ]
  }
 ],
 "metadata": {
  "kernelspec": {
   "display_name": "Python 3 (ipykernel)",
   "language": "python",
   "name": "python3"
  },
  "language_info": {
   "codemirror_mode": {
    "name": "ipython",
    "version": 3
   },
   "file_extension": ".py",
   "mimetype": "text/x-python",
   "name": "python",
   "nbconvert_exporter": "python",
   "pygments_lexer": "ipython3",
   "version": "3.9.7"
  }
 },
 "nbformat": 4,
 "nbformat_minor": 5
}
